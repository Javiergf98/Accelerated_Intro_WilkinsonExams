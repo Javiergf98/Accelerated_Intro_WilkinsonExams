{
 "cells": [
  {
   "cell_type": "markdown",
   "metadata": {},
   "source": [
    "# EXAM 1 ANSWERS \n",
    "#### Javier Guerrero Flores\n",
    "\n",
    "The exam was made using what I learnt last year in the Bioinformatics course and the notes from this course. I also check options and syntax in the _man_ page of some commands.\n",
    "\n",
    "The file **\"Locus_Germplasm_Phenotype_20130122.txt\"** contains some format problems, there are some lines that only contains the pubmed ID or a blank space. So some lines may not contain the information required in some questions of the exam."
   ]
  },
  {
   "cell_type": "markdown",
   "metadata": {},
   "source": [
    "# Question 1"
   ]
  },
  {
   "cell_type": "code",
   "execution_count": null,
   "metadata": {},
   "outputs": [],
   "source": [
    "cd /home/osboxes/Course/Accelerated_Intro_WilkinsonExams\n",
    "jupyter notebook"
   ]
  },
  {
   "cell_type": "markdown",
   "metadata": {},
   "source": [
    "# Question 2"
   ]
  },
  {
   "cell_type": "code",
   "execution_count": null,
   "metadata": {
    "scrolled": true
   },
   "outputs": [],
   "source": [
    "ls -lh"
   ]
  },
  {
   "cell_type": "markdown",
   "metadata": {},
   "source": [
    "Once in the directory Accelerated_Intro_WilkinsonExams, with the command _ls_ we can see the ownership of the file and the permissions (with _-l_ option). With _-h_ option the size is shown in Megabytes.\n",
    "\n",
    "This are the permission of the file and their meaning:\n",
    "**-rw-rw-r--**\n",
    "* user: read, write\n",
    "* group: read, write\n",
    "* anyone: read"
   ]
  },
  {
   "cell_type": "markdown",
   "metadata": {},
   "source": [
    "# Question 3"
   ]
  },
  {
   "cell_type": "code",
   "execution_count": null,
   "metadata": {},
   "outputs": [],
   "source": [
    "head -1 Locus_Germplasm_Phenotype_20130122.txt"
   ]
  },
  {
   "cell_type": "markdown",
   "metadata": {},
   "source": [
    "The command _head_ and the option _-1_ shows the first line of the file, the header of the tsv file."
   ]
  },
  {
   "cell_type": "markdown",
   "metadata": {},
   "source": [
    "# Question 4"
   ]
  },
  {
   "cell_type": "code",
   "execution_count": null,
   "metadata": {},
   "outputs": [],
   "source": [
    "cat Locus_Germplasm_Phenotype_20130122.txt | wc -l"
   ]
  },
  {
   "cell_type": "markdown",
   "metadata": {},
   "source": [
    "First run command _cat_ to read the file and the a pipe with the _wc_ commnand and _-l_ option to output only the number of lines in the file (including the header)."
   ]
  },
  {
   "cell_type": "markdown",
   "metadata": {},
   "source": [
    "# Question 5"
   ]
  },
  {
   "cell_type": "code",
   "execution_count": null,
   "metadata": {},
   "outputs": [],
   "source": [
    "tail -n +2 Locus_Germplasm_Phenotype_20130122.txt > Data_Only.csv\n",
    "cat Data_Only.csv | wc -l "
   ]
  },
  {
   "cell_type": "markdown",
   "metadata": {},
   "source": [
    "With the first line of code I copy the data to the file Data_only.csv using the command _tail_ and the option _-n_ with the value _+2_. This takes the last lines of the file starting from the second line, this line included.\n",
    "\n",
    "In the second line of the code, the command counts the lines of the new file I've just created to check that it is correct."
   ]
  },
  {
   "cell_type": "markdown",
   "metadata": {},
   "source": [
    "# Question 6"
   ]
  },
  {
   "cell_type": "code",
   "execution_count": null,
   "metadata": {},
   "outputs": [],
   "source": [
    "grep -ia \"root\" Locus_Germplasm_Phenotype_20130122.txt "
   ]
  },
  {
   "cell_type": "markdown",
   "metadata": {},
   "source": [
    "Using _grep_ with the option _-i_ (insentitive to cases) outputs the lines that includes the word **\"root\"**. I used the _-a_ option in every _grep_ command because I don't know the original source of a file, so I assume it is going to be Binary (I use this option in others questions too)."
   ]
  },
  {
   "cell_type": "markdown",
   "metadata": {},
   "source": [
    "# Question 7"
   ]
  },
  {
   "cell_type": "code",
   "execution_count": null,
   "metadata": {},
   "outputs": [],
   "source": [
    "grep -ia \"root\" Locus_Germplasm_Phenotype_20130122.txt | grep -E -ioa \"at[1-5]g[0-9]{5}\" > Root-associated-Loci.txt"
   ]
  },
  {
   "cell_type": "markdown",
   "metadata": {},
   "source": [
    "Using the same command line that the one I used in the previous exersise and then a pipe to a _grep_ command that print the AGI Locus Codes ( _-o_ option to print the matches) from every line that contains the word root using the reg-ex _\"at[1-5]g[0-9]{5}\"_ because the number of the chromosome can be only between 1 and 5 and then, after the _\"g\"_ five digits between 0 and 9. Then I redirect the standard output to the file named **Root-associated-loci.txt**."
   ]
  },
  {
   "cell_type": "markdown",
   "metadata": {},
   "source": [
    "# Question 8"
   ]
  },
  {
   "cell_type": "code",
   "execution_count": null,
   "metadata": {},
   "outputs": [],
   "source": [
    "grep -ia \"root\" Locus_Germplasm_Phenotype_20130122.txt | grep -E -oa \"[0-9]+$\" > Root-associated-Publications.txt"
   ]
  },
  {
   "cell_type": "markdown",
   "metadata": {},
   "source": [
    "First I filter the phenotypes that include the word **\"root\"** (as I did in the previous question), and then I use _grep_ to find the PubMed ID. The lenght of the ID is unknown so I use the _\"+\"_ character and them I use the reg-ex _\"$\"_ to find the ID because they appear at the end of the line."
   ]
  },
  {
   "cell_type": "markdown",
   "metadata": {},
   "source": [
    "# Question 9 "
   ]
  },
  {
   "cell_type": "code",
   "execution_count": null,
   "metadata": {
    "scrolled": true
   },
   "outputs": [],
   "source": [
    "grep -ia \"root\" Locus_Germplasm_Phenotype_20130122.txt | grep -E -ioa \"t[1-5]g\" | grep -E  -o \"[1-5]\" | sort | uniq -c"
   ]
  },
  {
   "cell_type": "markdown",
   "metadata": {},
   "source": [
    "I did this question using _sort_ and _uniq_ commands (learnt in another course). \n",
    "First I use the _grep_ command to look for **\"root\"** matches as I did in the previous questions, then a pipe to another _grep_ that finds the chromosome number (using this reg-ex **\"t[1-5]g\"**) with the option _-i_ to make it insensitive to cases and the option _-o_ to output the matches and not the lines. After that, I do a pipe to a new _grep_ just to output ONLY the number to redirect them to a _sort_ command which able to order the numbers, then I redirect the output to a _uniq_ command, this command filters out repeated lines in a file so that I check if every chromosome appears at least once which means that there are root genes in every chromosome (I use the _-c_ option just to know how many genes are in each chromosome because it shows the number of times the number of the chromosome is repeated)"
   ]
  },
  {
   "cell_type": "markdown",
   "metadata": {},
   "source": [
    "# Question 11"
   ]
  },
  {
   "cell_type": "code",
   "execution_count": null,
   "metadata": {},
   "outputs": [],
   "source": [
    "git add JGF_Exam_1_Answers\n",
    "git commit -m \"Uploaded exam 1 answers\"\n",
    "git push"
   ]
  }
 ],
 "metadata": {
  "kernelspec": {
   "display_name": "Bash",
   "language": "bash",
   "name": "bash"
  },
  "language_info": {
   "codemirror_mode": "shell",
   "file_extension": ".sh",
   "mimetype": "text/x-sh",
   "name": "bash"
  }
 },
 "nbformat": 4,
 "nbformat_minor": 2
}
